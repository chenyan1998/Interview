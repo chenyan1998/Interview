{
 "cells": [
  {
   "cell_type": "code",
   "execution_count": 2,
   "metadata": {
    "collapsed": true
   },
   "outputs": [
    {
     "name": "stdout",
     "output_type": "stream",
     "text": [
      "Welcome to\n",
      "      ____              __\n",
      "     / __/__  ___ _____/ /__\n",
      "    _\\ \\/ _ \\/ _ `/ __/  '_/\n",
      "   /__ / .__/\\_,_/_/ /_/\\_\\   version 3.0.1\n",
      "      /_/\n",
      "\n",
      "Using Python version 3.8.3 (default, Jul  2 2020 11:26:31)\n",
      "SparkSession available as 'spark'.\n"
     ]
    }
   ],
   "source": [
    "import numpy as np\n",
    "import seaborn as sns\n",
    "import pandas as pd\n",
    "import matplotlib.pyplot as plt\n",
    "import pyarrow.parquet as pq\n",
    "from pyspark.shell import spark\n",
    "# Convert parquet to CSV\n",
    "# df_clicks = spark.read.parquet(\"data/clicks.parquet\")\n",
    "# df_clicks.write.csv(\"data_csv/clicks.csv\")\n",
    "#\n",
    "# df_stores = spark.read.parquet(\"data/stores.parquet\")\n",
    "# df_stores.write.csv(\"data_csv/stores.csv\")\n",
    "#\n",
    "# df_users = spark.read.parquet(\"data/users.parquet\")\n",
    "# df_users.write.csv(\"data_csv/users.csv\")"
   ]
  },
  {
   "cell_type": "code",
   "execution_count": 3,
   "outputs": [
    {
     "name": "stdout",
     "output_type": "stream",
     "text": [
      "------------data_clicks_pd------------\n",
      "     index       id  user_id  store_id          device           platform  \\\n",
      "0  1242765   732810    28349       366         app_ios            iOS App   \n",
      "1   400439  1367874     3553       424  mobile_android                Web   \n",
      "2   224227  1401055    53657       165         desktop                Web   \n",
      "3  1628751   867093   236031        36       extension  Browser Extension   \n",
      "4    34010   568663     3021        36     app_android        Android App   \n",
      "\n",
      "            channel           created_at  \n",
      "0            Direct  2021-02-03 23:47:27  \n",
      "1           Display  2021-03-07 15:52:05  \n",
      "2          Referral  2021-03-09 13:17:56  \n",
      "3         Extension  2021-02-09 12:57:00  \n",
      "4  paid_ins_organic  2021-01-27 00:05:40  \n",
      "------------data_stores_pd------------\n",
      "   id  merchant_id             start_at               end_at display_text  \\\n",
      "0   0            0  2020-07-31 15:00:00  2029-12-31 14:59:00     1.0% 캐시백   \n",
      "1   1            1  2020-03-26 15:00:00  2029-12-31 14:59:59     1.0% 캐시백   \n",
      "2   2            2  2020-03-02 15:00:00  2028-12-31 14:59:00     3.0% 캐시백   \n",
      "3   3            3  2020-04-22 03:00:00  2050-04-30 03:00:00     1.0% 캐시백   \n",
      "4   4            4  2020-07-29 15:00:00  2050-07-31 14:59:00  최대 4.0% 캐시백   \n",
      "\n",
      "   is_searchable  \n",
      "0            1.0  \n",
      "1            1.0  \n",
      "2            1.0  \n",
      "3            1.0  \n",
      "4            1.0  \n",
      "------------data_users_pd------------\n",
      "   id          signup_datetime  lifetime_first_merchant_id  \\\n",
      "0   0  2021-03-20 14:15:59.392                         NaN   \n",
      "1   1  2020-05-05 13:57:03.195                     12251.0   \n",
      "2   2  2021-02-01 13:49:07.783                         NaN   \n",
      "3   3  2021-02-23 21:41:40.364                         NaN   \n",
      "4   4  2021-01-27 16:46:25.400                         NaN   \n",
      "\n",
      "  lifetime_first_purchase_datetime account_referral  \n",
      "0                             None      partnership  \n",
      "1          2020-05-05 15:06:05.000         ebbonus5  \n",
      "2                             None           friend  \n",
      "3                             None          sign up  \n",
      "4                             None          sign up  \n"
     ]
    }
   ],
   "source": [
    "# Visualize Parquet Data in Python\n",
    "data_clicks = pq.read_table('data/clicks.parquet')\n",
    "data_clicks_pd = data_clicks.to_pandas()\n",
    "print(\"------------data_clicks_pd------------\")\n",
    "print(data_clicks_pd.head())\n",
    "\n",
    "data_stores = pq.read_table('data/stores.parquet')\n",
    "data_stores_pd = data_stores.to_pandas()\n",
    "print(\"------------data_stores_pd------------\")\n",
    "print(data_stores_pd.head())\n",
    "\n",
    "data_users = pq.read_table('data/users.parquet')\n",
    "data_users_pd = data_users.to_pandas()\n",
    "print(\"------------data_users_pd------------\")\n",
    "print(data_users_pd.head())"
   ],
   "metadata": {
    "collapsed": false,
    "pycharm": {
     "name": "#%%\n"
    }
   }
  },
  {
   "cell_type": "code",
   "execution_count": 4,
   "outputs": [
    {
     "name": "stdout",
     "output_type": "stream",
     "text": [
      "           index  click_id  user_id  store_id       device     platform  \\\n",
      "0        1242765    732810    28349       366      app_ios      iOS App   \n",
      "1        1242766    838715    28349       366      app_ios      iOS App   \n",
      "2        1242767   1241814    28349       366      app_ios      iOS App   \n",
      "3        1242759   1244271    28349       182      app_ios      iOS App   \n",
      "4        1242758    768524    28349       182      app_ios      iOS App   \n",
      "...          ...       ...      ...       ...          ...          ...   \n",
      "1846150  1845088   1053468    21871       281      app_ios      iOS App   \n",
      "1846151  1845115    471950     3924        14  app_android  Android App   \n",
      "1846152  1842211   1059179    96410       410      app_ios      iOS App   \n",
      "1846153  1846110    696918   196455        93      app_ios      iOS App   \n",
      "1846154  1845114    149047   191857       471   mobile_ios          Web   \n",
      "\n",
      "                    channel           created_at  merchant_id  \\\n",
      "0                    Direct  2021-02-03 23:47:27          345   \n",
      "1          paid_ins_organic  2021-02-05 01:30:46          345   \n",
      "2          paid_ins_organic  2021-02-25 09:53:23          345   \n",
      "3          paid_ins_organic  2021-02-25 09:54:46           40   \n",
      "4                    Direct  2021-02-03 23:52:44           40   \n",
      "...                     ...                  ...          ...   \n",
      "1846150    paid_ins_organic  2021-02-20 03:27:47          267   \n",
      "1846151              Direct  2021-01-25 16:10:50           14   \n",
      "1846152    paid_ins_organic  2021-02-18 20:03:40          386   \n",
      "1846153  paid_ins_af_banner  2021-02-01 16:48:08           92   \n",
      "1846154              Direct  2021-01-09 09:47:26          440   \n",
      "\n",
      "                    start_at               end_at display_text  is_searchable  \\\n",
      "0        2020-03-02 15:00:00  2028-12-31 02:59:59     1.5% 캐시백            1.0   \n",
      "1        2020-03-02 15:00:00  2028-12-31 02:59:59     1.5% 캐시백            1.0   \n",
      "2        2020-03-02 15:00:00  2028-12-31 02:59:59     1.5% 캐시백            1.0   \n",
      "3                       None                 None         None            NaN   \n",
      "4                       None                 None         None            NaN   \n",
      "...                      ...                  ...          ...            ...   \n",
      "1846150  2020-05-14 03:00:00  2050-05-31 03:00:00     5.5% 캐시백            1.0   \n",
      "1846151  2020-04-22 03:00:00  2050-04-30 03:00:00     6.0% 캐시백            1.0   \n",
      "1846152                 None                 None         None            NaN   \n",
      "1846153                 None                 None         None            NaN   \n",
      "1846154                 None                 None         None            NaN   \n",
      "\n",
      "                 signup_datetime  lifetime_first_merchant_id  \\\n",
      "0        2021-02-03 23:34:10.822                         NaN   \n",
      "1        2021-02-03 23:34:10.822                         NaN   \n",
      "2        2021-02-03 23:34:10.822                         NaN   \n",
      "3        2021-02-03 23:34:10.822                         NaN   \n",
      "4        2021-02-03 23:34:10.822                         NaN   \n",
      "...                          ...                         ...   \n",
      "1846150  2020-08-23 01:44:07.393                     12235.0   \n",
      "1846151  2021-01-20 21:34:01.281                         NaN   \n",
      "1846152  2021-02-18 20:00:16.006                         NaN   \n",
      "1846153  2020-08-23 06:15:39.407                         NaN   \n",
      "1846154  2020-12-27 11:22:44.244                         NaN   \n",
      "\n",
      "        lifetime_first_purchase_datetime account_referral  num_click_store  \n",
      "0                                   None           friend             2831  \n",
      "1                                   None           friend             2831  \n",
      "2                                   None           friend             2831  \n",
      "3                                   None           friend           259871  \n",
      "4                                   None           friend           259871  \n",
      "...                                  ...              ...              ...  \n",
      "1846150          2020-09-08 00:24:54.000           sbsong               30  \n",
      "1846151                             None      partnership               26  \n",
      "1846152                             None          sign up               34  \n",
      "1846153                             None          sign up                1  \n",
      "1846154                             None          sign up                1  \n",
      "\n",
      "[1846155 rows x 18 columns]\n",
      "merchant_id_list :  1672        0\n",
      "3198        1\n",
      "14014       2\n",
      "29973       3\n",
      "17525       4\n",
      "         ... \n",
      "2863      491\n",
      "6819      492\n",
      "1682      493\n",
      "659320    494\n",
      "5925      495\n",
      "Name: merchant_id, Length: 388, dtype: int64\n"
     ]
    }
   ],
   "source": [
    "#Rename , merge three dataframe , calculate click number of stores\n",
    "#data_clicks_pd = data_clicks_pd.rename(columns={'user_id': 'userid'})\n",
    "#data_users_pd = data_users_pd.rename(columns={'id': 'user_id'})\n",
    "data_stores_pd = data_stores_pd.rename(columns={'id': 'store_id'})\n",
    "df_merge_clicks_stores = pd.merge(data_clicks_pd, data_stores_pd, on=['store_id', 'store_id'])\n",
    "df_merge_clicks_stores = df_merge_clicks_stores.rename(columns={'id': 'click_id'})\n",
    "df_merge_clicks_stores = df_merge_clicks_stores.rename(columns={'user_id': 'id'})\n",
    "df_merge_clicks_stores_users = pd.merge(df_merge_clicks_stores, data_users_pd, on=['id', 'id'])\n",
    "df_merge_clicks_stores_users = df_merge_clicks_stores_users.rename(columns={'id': 'user_id'})\n",
    "\n",
    "dups_store_id = data_clicks_pd.pivot_table(index = ['store_id'], aggfunc='size')\n",
    "dups_store_id_pd = dups_store_id.to_frame()\n",
    "df_merge_clicks_stores_users = pd.merge(left= df_merge_clicks_stores_users, right= dups_store_id_pd, how='left', left_on='store_id', right_on='store_id')\n",
    "df_merge_clicks_stores_users = df_merge_clicks_stores_users.rename(columns={ 0 : 'num_click_store'})\n",
    "\n",
    "# get a series of merchant_id\n",
    "merchant_id_list = df_merge_clicks_stores_users.loc[: , \"merchant_id\"]\n",
    "merchant_id_list = merchant_id_list.drop_duplicates()\n",
    "merchant_id_list = merchant_id_list.sort_values()\n",
    "# for col in df_merge_clicks_stores_users:\n",
    "#     print(col)\n",
    "\n",
    "#dups_store_id_pd.columns = ['store_id','total_number']\n",
    "#index = dups_store_id.Value.argmax()\n",
    "#print(\"dups_store_id : \", dups_store_id)\n",
    "#print(data_clicks_pd.loc[data_clicks_pd['store_id'] == 182 ])\n",
    "#print('dups_store_id_pd', dups_store_id_pd)\n",
    "#print('data_clicks_pd.shape : ', data_clicks_pd.shape)\n",
    "#print('merged_left.shape : ', merged_left.shape)\n",
    "print(df_merge_clicks_stores_users)\n",
    "print(\"merchant_id_list : \", merchant_id_list)"
   ],
   "metadata": {
    "collapsed": false,
    "pycharm": {
     "name": "#%%\n"
    }
   }
  },
  {
   "cell_type": "code",
   "execution_count": null,
   "outputs": [],
   "source": [
    "# import matplotlib as mpl\n",
    "# mpl.rcParams['agg.path.chunksize'] = 10000\n",
    "# df_merge_clicks_stores_users.plot.bar(x=\"store_id\", y=\"num_click_store\")"
   ],
   "metadata": {
    "collapsed": false,
    "pycharm": {
     "name": "#%%\n",
     "is_executing": true
    }
   }
  },
  {
   "cell_type": "code",
   "execution_count": 287,
   "outputs": [
    {
     "name": "stdout",
     "output_type": "stream",
     "text": [
      "store_id_max :  182\n"
     ]
    }
   ],
   "source": [
    "# Task1 : The most clicked merchant for month January 2021\n",
    "store_id_max = df_merge_clicks_stores_users.loc[df_merge_clicks_stores_users['num_click_store'].idxmax()]\n",
    "print('store_id_max : ', store_id_max['store_id'])"
   ],
   "metadata": {
    "collapsed": false,
    "pycharm": {
     "name": "#%%\n"
    }
   }
  },
  {
   "cell_type": "code",
   "execution_count": 258,
   "outputs": [],
   "source": [
    "# Task2 : The distribution of clicks of merchant for month March 2021\n",
    "# clicked_merchant = df[\"num_click_store\"] > 5000\n",
    "# store_id_c = df['store_id']\n",
    "# clicked_merchant.plot( x=\"store_id_c\", y=\" clicked_merchant \", kind=\"bar\", rot=5, fontsize=4)"
   ],
   "metadata": {
    "collapsed": false,
    "pycharm": {
     "name": "#%%\n"
    }
   }
  },
  {
   "cell_type": "code",
   "execution_count": 259,
   "outputs": [],
   "source": [
    "# clicked_merchant = df[\"num_click_store\"] > 5000\n",
    "# store_id_c = df['store_id']\n",
    "# clicked_merchant.plot(kind=\"hist \", rot=5, fontsize=4)"
   ],
   "metadata": {
    "collapsed": false,
    "pycharm": {
     "name": "#%%\n"
    }
   }
  },
  {
   "cell_type": "code",
   "execution_count": 288,
   "outputs": [
    {
     "ename": "ValueError",
     "evalue": "Could not interpret input 'click_label'",
     "output_type": "error",
     "traceback": [
      "\u001B[0;31m---------------------------------------------------------------------------\u001B[0m",
      "\u001B[0;31mValueError\u001B[0m                                Traceback (most recent call last)",
      "\u001B[0;32m<ipython-input-288-bb32e4ad080a>\u001B[0m in \u001B[0;36m<module>\u001B[0;34m\u001B[0m\n\u001B[1;32m      2\u001B[0m \u001B[0;31m# Task3 :On average, what are the number of clicks user make in 1 month?\u001B[0m\u001B[0;34m\u001B[0m\u001B[0;34m\u001B[0m\u001B[0;34m\u001B[0m\u001B[0m\n\u001B[1;32m      3\u001B[0m \u001B[0mDate_df_1\u001B[0m \u001B[0;34m=\u001B[0m \u001B[0mdf_merge_clicks_stores_users\u001B[0m\u001B[0;34m[\u001B[0m\u001B[0mdf_merge_clicks_stores_users\u001B[0m\u001B[0;34m[\u001B[0m\u001B[0;34m'created_at'\u001B[0m\u001B[0;34m]\u001B[0m\u001B[0;34m.\u001B[0m\u001B[0mstr\u001B[0m\u001B[0;34m.\u001B[0m\u001B[0mcontains\u001B[0m\u001B[0;34m(\u001B[0m\u001B[0;34m\"2021-01\"\u001B[0m\u001B[0;34m)\u001B[0m\u001B[0;34m]\u001B[0m\u001B[0;34m\u001B[0m\u001B[0;34m\u001B[0m\u001B[0m\n\u001B[0;32m----> 4\u001B[0;31m \u001B[0msns\u001B[0m\u001B[0;34m.\u001B[0m\u001B[0mcountplot\u001B[0m\u001B[0;34m(\u001B[0m\u001B[0mx\u001B[0m\u001B[0;34m=\u001B[0m\u001B[0;34m\"click_label\"\u001B[0m\u001B[0;34m,\u001B[0m \u001B[0mdata\u001B[0m\u001B[0;34m=\u001B[0m \u001B[0mDate_df_1\u001B[0m\u001B[0;34m,\u001B[0m \u001B[0mpalette\u001B[0m\u001B[0;34m=\u001B[0m\u001B[0;34m\"muted\"\u001B[0m\u001B[0;34m)\u001B[0m\u001B[0;34m\u001B[0m\u001B[0;34m\u001B[0m\u001B[0m\n\u001B[0m\u001B[1;32m      5\u001B[0m \u001B[0;34m\u001B[0m\u001B[0m\n\u001B[1;32m      6\u001B[0m \u001B[0;34m\u001B[0m\u001B[0m\n",
      "\u001B[0;32m~/opt/anaconda3/lib/python3.8/site-packages/seaborn/_decorators.py\u001B[0m in \u001B[0;36minner_f\u001B[0;34m(*args, **kwargs)\u001B[0m\n\u001B[1;32m     44\u001B[0m             )\n\u001B[1;32m     45\u001B[0m         \u001B[0mkwargs\u001B[0m\u001B[0;34m.\u001B[0m\u001B[0mupdate\u001B[0m\u001B[0;34m(\u001B[0m\u001B[0;34m{\u001B[0m\u001B[0mk\u001B[0m\u001B[0;34m:\u001B[0m \u001B[0marg\u001B[0m \u001B[0;32mfor\u001B[0m \u001B[0mk\u001B[0m\u001B[0;34m,\u001B[0m \u001B[0marg\u001B[0m \u001B[0;32min\u001B[0m \u001B[0mzip\u001B[0m\u001B[0;34m(\u001B[0m\u001B[0msig\u001B[0m\u001B[0;34m.\u001B[0m\u001B[0mparameters\u001B[0m\u001B[0;34m,\u001B[0m \u001B[0margs\u001B[0m\u001B[0;34m)\u001B[0m\u001B[0;34m}\u001B[0m\u001B[0;34m)\u001B[0m\u001B[0;34m\u001B[0m\u001B[0;34m\u001B[0m\u001B[0m\n\u001B[0;32m---> 46\u001B[0;31m         \u001B[0;32mreturn\u001B[0m \u001B[0mf\u001B[0m\u001B[0;34m(\u001B[0m\u001B[0;34m**\u001B[0m\u001B[0mkwargs\u001B[0m\u001B[0;34m)\u001B[0m\u001B[0;34m\u001B[0m\u001B[0;34m\u001B[0m\u001B[0m\n\u001B[0m\u001B[1;32m     47\u001B[0m     \u001B[0;32mreturn\u001B[0m \u001B[0minner_f\u001B[0m\u001B[0;34m\u001B[0m\u001B[0;34m\u001B[0m\u001B[0m\n\u001B[1;32m     48\u001B[0m \u001B[0;34m\u001B[0m\u001B[0m\n",
      "\u001B[0;32m~/opt/anaconda3/lib/python3.8/site-packages/seaborn/categorical.py\u001B[0m in \u001B[0;36mcountplot\u001B[0;34m(x, y, hue, data, order, hue_order, orient, color, palette, saturation, dodge, ax, **kwargs)\u001B[0m\n\u001B[1;32m   3593\u001B[0m         \u001B[0;32mraise\u001B[0m \u001B[0mValueError\u001B[0m\u001B[0;34m(\u001B[0m\u001B[0;34m\"Cannot pass values for both `x` and `y`\"\u001B[0m\u001B[0;34m)\u001B[0m\u001B[0;34m\u001B[0m\u001B[0;34m\u001B[0m\u001B[0m\n\u001B[1;32m   3594\u001B[0m \u001B[0;34m\u001B[0m\u001B[0m\n\u001B[0;32m-> 3595\u001B[0;31m     plotter = _CountPlotter(\n\u001B[0m\u001B[1;32m   3596\u001B[0m         \u001B[0mx\u001B[0m\u001B[0;34m,\u001B[0m \u001B[0my\u001B[0m\u001B[0;34m,\u001B[0m \u001B[0mhue\u001B[0m\u001B[0;34m,\u001B[0m \u001B[0mdata\u001B[0m\u001B[0;34m,\u001B[0m \u001B[0morder\u001B[0m\u001B[0;34m,\u001B[0m \u001B[0mhue_order\u001B[0m\u001B[0;34m,\u001B[0m\u001B[0;34m\u001B[0m\u001B[0;34m\u001B[0m\u001B[0m\n\u001B[1;32m   3597\u001B[0m         \u001B[0mestimator\u001B[0m\u001B[0;34m,\u001B[0m \u001B[0mci\u001B[0m\u001B[0;34m,\u001B[0m \u001B[0mn_boot\u001B[0m\u001B[0;34m,\u001B[0m \u001B[0munits\u001B[0m\u001B[0;34m,\u001B[0m \u001B[0mseed\u001B[0m\u001B[0;34m,\u001B[0m\u001B[0;34m\u001B[0m\u001B[0;34m\u001B[0m\u001B[0m\n",
      "\u001B[0;32m~/opt/anaconda3/lib/python3.8/site-packages/seaborn/categorical.py\u001B[0m in \u001B[0;36m__init__\u001B[0;34m(self, x, y, hue, data, order, hue_order, estimator, ci, n_boot, units, seed, orient, color, palette, saturation, errcolor, errwidth, capsize, dodge)\u001B[0m\n\u001B[1;32m   1582\u001B[0m                  errwidth, capsize, dodge):\n\u001B[1;32m   1583\u001B[0m         \u001B[0;34m\"\"\"Initialize the plotter.\"\"\"\u001B[0m\u001B[0;34m\u001B[0m\u001B[0;34m\u001B[0m\u001B[0m\n\u001B[0;32m-> 1584\u001B[0;31m         self.establish_variables(x, y, hue, data, orient,\n\u001B[0m\u001B[1;32m   1585\u001B[0m                                  order, hue_order, units)\n\u001B[1;32m   1586\u001B[0m         \u001B[0mself\u001B[0m\u001B[0;34m.\u001B[0m\u001B[0mestablish_colors\u001B[0m\u001B[0;34m(\u001B[0m\u001B[0mcolor\u001B[0m\u001B[0;34m,\u001B[0m \u001B[0mpalette\u001B[0m\u001B[0;34m,\u001B[0m \u001B[0msaturation\u001B[0m\u001B[0;34m)\u001B[0m\u001B[0;34m\u001B[0m\u001B[0;34m\u001B[0m\u001B[0m\n",
      "\u001B[0;32m~/opt/anaconda3/lib/python3.8/site-packages/seaborn/categorical.py\u001B[0m in \u001B[0;36mestablish_variables\u001B[0;34m(self, x, y, hue, data, orient, order, hue_order, units)\u001B[0m\n\u001B[1;32m    151\u001B[0m                 \u001B[0;32mif\u001B[0m \u001B[0misinstance\u001B[0m\u001B[0;34m(\u001B[0m\u001B[0mvar\u001B[0m\u001B[0;34m,\u001B[0m \u001B[0mstr\u001B[0m\u001B[0;34m)\u001B[0m\u001B[0;34m:\u001B[0m\u001B[0;34m\u001B[0m\u001B[0;34m\u001B[0m\u001B[0m\n\u001B[1;32m    152\u001B[0m                     \u001B[0merr\u001B[0m \u001B[0;34m=\u001B[0m \u001B[0;34m\"Could not interpret input '{}'\"\u001B[0m\u001B[0;34m.\u001B[0m\u001B[0mformat\u001B[0m\u001B[0;34m(\u001B[0m\u001B[0mvar\u001B[0m\u001B[0;34m)\u001B[0m\u001B[0;34m\u001B[0m\u001B[0;34m\u001B[0m\u001B[0m\n\u001B[0;32m--> 153\u001B[0;31m                     \u001B[0;32mraise\u001B[0m \u001B[0mValueError\u001B[0m\u001B[0;34m(\u001B[0m\u001B[0merr\u001B[0m\u001B[0;34m)\u001B[0m\u001B[0;34m\u001B[0m\u001B[0;34m\u001B[0m\u001B[0m\n\u001B[0m\u001B[1;32m    154\u001B[0m \u001B[0;34m\u001B[0m\u001B[0m\n\u001B[1;32m    155\u001B[0m             \u001B[0;31m# Figure out the plotting orientation\u001B[0m\u001B[0;34m\u001B[0m\u001B[0;34m\u001B[0m\u001B[0;34m\u001B[0m\u001B[0m\n",
      "\u001B[0;31mValueError\u001B[0m: Could not interpret input 'click_label'"
     ]
    }
   ],
   "source": [
    "import seaborn as sns\n",
    "# Task3 :On average, what are the number of clicks user make in 1 month?\n",
    "Date_df_1 = df_merge_clicks_stores_users[df_merge_clicks_stores_users['created_at'].str.contains(\"2021-01\")]\n",
    "print('Date_df.shape : ', Date_df_1.shape[0])\n",
    "\n",
    "Date_df_2 = df_merge_clicks_stores_users[df_merge_clicks_stores_users['created_at'].str.contains(\"2021-02\")]\n",
    "print('Date_df.shape : ', Date_df_2.shape[0])\n",
    "\n",
    "Date_df_3 = df_merge_clicks_stores_users[df_merge_clicks_stores_users['created_at'].str.contains(\"2021-03\")]\n",
    "print('Date_df.shape : ', Date_df_3.shape[0])"
   ],
   "metadata": {
    "collapsed": false,
    "pycharm": {
     "name": "#%%\n"
    }
   }
  },
  {
   "cell_type": "code",
   "execution_count": 261,
   "outputs": [
    {
     "name": "stdout",
     "output_type": "stream",
     "text": [
      "The average number of clicks user make in 1 month :  658310.0\n"
     ]
    }
   ],
   "source": [
    "average = ( Date_df_1.shape[0] +Date_df_1.shape[0] +Date_df_1.shape[0] ) / 3\n",
    "print('The average number of clicks user make in 1 month : ' , average)"
   ],
   "metadata": {
    "collapsed": false,
    "pycharm": {
     "name": "#%%\n"
    }
   }
  },
  {
   "cell_type": "code",
   "execution_count": 262,
   "outputs": [
    {
     "name": "stdout",
     "output_type": "stream",
     "text": [
      "---------------------device list---------------------\n",
      "                 device  device_label_class\n",
      "156         app_android                   1\n",
      "0               app_ios                   2\n",
      "46              desktop                   3\n",
      "39            extension                   4\n",
      "125979           mobile                   5\n",
      "238      mobile_android                   6\n",
      "219          mobile_ios                   7\n",
      "1086065          tablet                   8\n",
      "90212              None                   9\n",
      "----------------------platform list------------------\n",
      "              platform  platform_label_class\n",
      "156        Android App                     1\n",
      "39   Browser Extension                     2\n",
      "46                 Web                     3\n",
      "0              iOS App                     4\n",
      "----------------------channel list-------------------\n",
      "                              channel  channel_label_class\n",
      "4281                          (Other)                    1\n",
      "0                              Direct                    2\n",
      "158                           Display                    3\n",
      "559486                          Email                    4\n",
      "39                          Extension                    5\n",
      "1392                       Mobile App                    6\n",
      "81                         Newsletter                    7\n",
      "146                    Organic Search                    8\n",
      "254                       Paid Search                    9\n",
      "1717919                   Paid Social                   10\n",
      "2184                         Referral                   11\n",
      "1871                           Social                   12\n",
      "1710        paid_ins_Apple Search Ads                   13\n",
      "1629            paid_ins_Facebook Ads                   14\n",
      "118899                paid_ins_KR_CRM                   15\n",
      "15045              paid_ins_admax_int                   16\n",
      "360781            paid_ins_adpick_int                   17\n",
      "2544               paid_ins_af_banner                   18\n",
      "1099365    paid_ins_aliexpress328sale                   19\n",
      "926630        paid_ins_alilinkchecker                   20\n",
      "1187350  paid_ins_bytedanceglobal_int                   21\n",
      "1485846       paid_ins_carouselbanner                   22\n",
      "21112                    paid_ins_crm                   23\n",
      "236115       paid_ins_crosstarget_int                   24\n",
      "8712                    paid_ins_daum                   25\n",
      "651766                paid_ins_ebates                   26\n",
      "2270                paid_ins_facebook                   27\n",
      "342292                 paid_ins_forum                   28\n",
      "2633         paid_ins_gnmperformanckr                   29\n",
      "2808       paid_ins_googleadwords_int                   30\n",
      "1319324             paid_ins_homepage                   31\n",
      "1014288                  paid_ins_ian                   32\n",
      "239710                 paid_ins_kakao                   33\n",
      "531657             paid_ins_kakao_int                   34\n",
      "1069537          paid_ins_kakaomoment                   35\n",
      "1150630            paid_ins_kakaotalk                   36\n",
      "1014292           paid_ins_kevin_test                   37\n",
      "504562                  paid_ins_mapp                   38\n",
      "1801337            paid_ins_mfaas_int                   39\n",
      "1626929               paid_ins_navbar                   40\n",
      "2593                   paid_ins_naver                   41\n",
      "1723374         paid_ins_naverGFA_int                   42\n",
      "28388          paid_ins_naverbranding                   43\n",
      "1402954             paid_ins_navergfa                   44\n",
      "1440502         paid_ins_naverwebtoon                   45\n",
      "1                    paid_ins_organic                   46\n",
      "12804           paid_ins_partnerships                   47\n",
      "604322                   paid_ins_raf                   48\n",
      "2223              paid_ins_restricted                   49\n",
      "5514            paid_rtg_Facebook Ads                   50\n",
      "19             paid_rtg_criteonew_int                   51\n",
      "14313      paid_rtg_googleadwords_int                   52\n",
      "712868            paid_rtg_inmobi_int                   53\n",
      "1647890            paid_rtg_kakao_int                   54\n",
      "16369             paid_rtg_restricted                   55\n",
      "90212                            None                   56\n",
      "----------------------created_at----------------------------\n",
      "120102     1.609459e+09\n",
      "1733187    1.609459e+09\n",
      "1747920    1.609459e+09\n",
      "1166666    1.609459e+09\n",
      "1747921    1.609459e+09\n",
      "               ...     \n",
      "1531858    2.478289e+09\n",
      "348430     2.479333e+09\n",
      "1661546    2.479973e+09\n",
      "1435244    2.480310e+09\n",
      "403838     2.480757e+09\n",
      "Name: created_at, Length: 1550788, dtype: float64\n",
      "----------------------signup_datetime-----------------------\n",
      "----------------------lifetime_first_merchant----------------\n",
      "----------------------lifetime_first_purchase_datetime-------\n",
      "----------------------Account_referral-----------------------\n"
     ]
    }
   ],
   "source": [
    "# series of all classes of each features\n",
    "# get a series of merchant_id\n",
    "print(\"---------------------device list---------------------\")\n",
    "device_list = df_merge_clicks_stores_users.loc[: , \"device\"]\n",
    "device_list = device_list.drop_duplicates()\n",
    "device_list = device_list.sort_values()\n",
    "device_list = device_list.to_frame()\n",
    "device_list['device_label_class'] = range(1, len(device_list) + 1)\n",
    "print(device_list)\n",
    "\n",
    "print(\"----------------------platform list------------------\")\n",
    "platform_list = df_merge_clicks_stores_users.loc[:,\"platform\"]\n",
    "platform_list = platform_list.drop_duplicates()\n",
    "platform_list = platform_list.sort_values()\n",
    "platform_list = platform_list.to_frame()\n",
    "platform_list['platform_label_class'] = range(1, len(platform_list)+1)\n",
    "print(platform_list)\n",
    "\n",
    "print(\"----------------------channel list-------------------\")\n",
    "channel_list = df_merge_clicks_stores_users.loc[:,\"channel\"]\n",
    "channel_list = channel_list.drop_duplicates()\n",
    "channel_list = channel_list.sort_values()\n",
    "channel_list = channel_list.to_frame()\n",
    "channel_list['channel_label_class'] = range(1, len(channel_list) + 1 )\n",
    "print(channel_list)\n",
    "\n",
    "print(\"----------------------created_at----------------------------\")\n",
    "created_at_list = df_merge_clicks_stores_users.loc[:,\"created_at\"]\n",
    "created_at_list = created_at_list.drop_duplicates()\n",
    "created_at_list = created_at_list.sort_values()\n",
    "created_at_list = created_at_list.to_frame()\n",
    "created_at_list = pd.to_datetime(created_at_list['created_at']).astype(int)/ 10**9\n",
    "#df_merge_clicks_stores_users = pd.to_datetime(df_merge_clicks_stores_users['created_at']).astype(int)/ 10**9\n",
    "print(created_at_list)\n",
    "\n",
    "print(\"----------------------signup_datetime-----------------------\")\n",
    "# signup_date_list = df_merge_clicks_stores_users.loc[:,\"signup_datetime\"]\n",
    "# signup_date_list = signup_date_list.drop_duplicates()\n",
    "# signup_date_list = signup_date_list.sort_values()\n",
    "# signup_date_list = signup_date_list.to_frame()\n",
    "#signup_date_list['class_label'] = range(1,len(signup_date_list)+1)\n",
    "#signup_date_list = pd.to_datetime(signup_date_list['signup_datetime']).astype(int)/ 10**9\n",
    "#df_merge_clicks_stores_users = pd.to_datetime(df_merge_clicks_stores_users['signup_datetime']).astype(int)/ 10**9\n",
    "#print(signup_date_list)\n",
    "\n",
    "print(\"----------------------lifetime_first_merchant----------------\")\n",
    "\n",
    "# lifetime_first_list = df_merge_clicks_stores_users.loc[:,\"lifetime_first_merchant_id\"]\n",
    "# lifetime_first_list = lifetime_first_list.drop_duplicates()\n",
    "# lifetime_first_list = lifetime_first_list.sort_values()\n",
    "#lifetime_first_list = lifetime_first_list.to_frame()\n",
    "#lifetime_first_list['class_label'] = range(1,len(lifetime_first_list)+1)\n",
    "#lifetime_first_list = pd.to_datetime(lifetime_first_list['lifetime_first_merchant_id']).astype(int)/ 10**9\n",
    "#df_merge_clicks_stores_users = pd.to_datetime(df_merge_clicks_stores_users['lifetime_first_merchant_id']).astype(int)/ 10**9\n",
    "#print(lifetime_first_list)\n",
    "\n",
    "print(\"----------------------lifetime_first_purchase_datetime-------\")\n",
    "# lifetime_purchase = df_merge_clicks_stores_users.loc[:, \"lifetime_first_purchase_datetime\"]\n",
    "# lifetime_purchase = lifetime_purchase.drop_duplicates()\n",
    "# lifetime_purchase = lifetime_purchase.sort_values()\n",
    "#lifetime_purchase = lifetime_purchase.to_frame()\n",
    "#lifetime_purchase['class_label'] = range(1,len(lifetime_purchase)+1)\n",
    "#lifetime_purchase = pd.to_datetime(lifetime_purchase['lifetime_first_purchase_datetime']).astype(int)/ 10**9\n",
    "#df_merge_clicks_stores_users = pd.to_datetime(df_merge_clicks_stores_users['lifetime_first_purchase_datetime']).astype(int)/ 10**9\n",
    "# print(lifetime_purchase)\n",
    "\n",
    "print(\"----------------------Account_referral-----------------------\")\n",
    "# account_ref_list = df_merge_clicks_stores_users.loc[:, \"account_referral\"]\n",
    "# account_ref_list = account_ref_list.drop_duplicates()\n",
    "# account_ref_list = account_ref_list.sort_values()\n",
    "# #account_ref_list = account_ref_list['account_referral'].astype(str).astype(int)\n",
    "# print(account_ref_list)\n",
    "#print(\"--------df_merge_clicks_stores_users--------\",df_merge_clicks_stores_users.shape)"
   ],
   "metadata": {
    "collapsed": false,
    "pycharm": {
     "name": "#%%\n"
    }
   }
  },
  {
   "cell_type": "markdown",
   "source": [
    "# Model Building\n",
    "0. Dataset Preparation\n",
    "1. Supervised learning\n",
    "2. Build a prediction model to predict what is the next merchant a user will click.\n",
    "3. Serve the model in a web service."
   ],
   "metadata": {
    "collapsed": false
   }
  },
  {
   "cell_type": "code",
   "execution_count": 263,
   "outputs": [
    {
     "name": "stdout",
     "output_type": "stream",
     "text": [
      "---------------------df_merge_clicks_stores_users-------------\n",
      "           index  click_id  user_id  store_id       device     platform  \\\n",
      "0        1242765    732810    28349       366      app_ios      iOS App   \n",
      "1        1242766    838715    28349       366      app_ios      iOS App   \n",
      "2        1242767   1241814    28349       366      app_ios      iOS App   \n",
      "3        1242759   1244271    28349       182      app_ios      iOS App   \n",
      "4        1242758    768524    28349       182      app_ios      iOS App   \n",
      "...          ...       ...      ...       ...          ...          ...   \n",
      "1846150  1845088   1053468    21871       281      app_ios      iOS App   \n",
      "1846151  1845115    471950     3924        14  app_android  Android App   \n",
      "1846152  1842211   1059179    96410       410      app_ios      iOS App   \n",
      "1846153  1846110    696918   196455        93      app_ios      iOS App   \n",
      "1846154  1845114    149047   191857       471   mobile_ios          Web   \n",
      "\n",
      "                    channel           created_at  merchant_id  \\\n",
      "0                    Direct  2021-02-03 23:47:27          345   \n",
      "1          paid_ins_organic  2021-02-05 01:30:46          345   \n",
      "2          paid_ins_organic  2021-02-25 09:53:23          345   \n",
      "3          paid_ins_organic  2021-02-25 09:54:46           40   \n",
      "4                    Direct  2021-02-03 23:52:44           40   \n",
      "...                     ...                  ...          ...   \n",
      "1846150    paid_ins_organic  2021-02-20 03:27:47          267   \n",
      "1846151              Direct  2021-01-25 16:10:50           14   \n",
      "1846152    paid_ins_organic  2021-02-18 20:03:40          386   \n",
      "1846153  paid_ins_af_banner  2021-02-01 16:48:08           92   \n",
      "1846154              Direct  2021-01-09 09:47:26          440   \n",
      "\n",
      "                    start_at  ... display_text is_searchable  \\\n",
      "0        2020-03-02 15:00:00  ...     1.5% 캐시백           1.0   \n",
      "1        2020-03-02 15:00:00  ...     1.5% 캐시백           1.0   \n",
      "2        2020-03-02 15:00:00  ...     1.5% 캐시백           1.0   \n",
      "3                       None  ...         None           NaN   \n",
      "4                       None  ...         None           NaN   \n",
      "...                      ...  ...          ...           ...   \n",
      "1846150  2020-05-14 03:00:00  ...     5.5% 캐시백           1.0   \n",
      "1846151  2020-04-22 03:00:00  ...     6.0% 캐시백           1.0   \n",
      "1846152                 None  ...         None           NaN   \n",
      "1846153                 None  ...         None           NaN   \n",
      "1846154                 None  ...         None           NaN   \n",
      "\n",
      "                 signup_datetime lifetime_first_merchant_id  \\\n",
      "0        2021-02-03 23:34:10.822                        NaN   \n",
      "1        2021-02-03 23:34:10.822                        NaN   \n",
      "2        2021-02-03 23:34:10.822                        NaN   \n",
      "3        2021-02-03 23:34:10.822                        NaN   \n",
      "4        2021-02-03 23:34:10.822                        NaN   \n",
      "...                          ...                        ...   \n",
      "1846150  2020-08-23 01:44:07.393                    12235.0   \n",
      "1846151  2021-01-20 21:34:01.281                        NaN   \n",
      "1846152  2021-02-18 20:00:16.006                        NaN   \n",
      "1846153  2020-08-23 06:15:39.407                        NaN   \n",
      "1846154  2020-12-27 11:22:44.244                        NaN   \n",
      "\n",
      "         lifetime_first_purchase_datetime account_referral num_click_store  \\\n",
      "0                                    None           friend            2831   \n",
      "1                                    None           friend            2831   \n",
      "2                                    None           friend            2831   \n",
      "3                                    None           friend          259871   \n",
      "4                                    None           friend          259871   \n",
      "...                                   ...              ...             ...   \n",
      "1846150           2020-09-08 00:24:54.000           sbsong              30   \n",
      "1846151                              None      partnership              26   \n",
      "1846152                              None          sign up              34   \n",
      "1846153                              None          sign up               1   \n",
      "1846154                              None          sign up               1   \n",
      "\n",
      "         device_label_class  platform_label_class  channel_label_class  \n",
      "0                         2                     4                    2  \n",
      "1                         2                     4                   46  \n",
      "2                         2                     4                   46  \n",
      "3                         2                     4                   46  \n",
      "4                         2                     4                    2  \n",
      "...                     ...                   ...                  ...  \n",
      "1846150                   2                     4                   46  \n",
      "1846151                   1                     1                    2  \n",
      "1846152                   2                     4                   46  \n",
      "1846153                   2                     4                   18  \n",
      "1846154                   7                     3                    2  \n",
      "\n",
      "[1846155 rows x 21 columns]\n",
      "df_merge_clicks_stores_users.shape: (1846155, 21)\n"
     ]
    }
   ],
   "source": [
    "df_merge_clicks_stores_users = pd.merge(left= df_merge_clicks_stores_users, right=device_list, how='left', left_on='device', right_on='device')\n",
    "df_merge_clicks_stores_users = pd.merge(left= df_merge_clicks_stores_users, right=platform_list,how='left',left_on='platform',right_on='platform' )\n",
    "df_merge_clicks_stores_users = pd.merge(left= df_merge_clicks_stores_users, right=channel_list,how='left',left_on='channel',right_on='channel' )\n",
    "\n",
    "\n",
    "#df_merge_clicks_stores_users  = df_merge_clicks_stores_users.sort_values( by=['num_click_store'], inplace=True,ascending=  False )\n",
    "#new_dataset = new_dataset.drop_duplicates(subset = \"store_id\")\n",
    "#print('new_dataset.head(): ', new_dataset.head() )\n",
    "print('---------------------df_merge_clicks_stores_users-------------')\n",
    "print(df_merge_clicks_stores_users)\n",
    "print('df_merge_clicks_stores_users.shape:', df_merge_clicks_stores_users.shape)"
   ],
   "metadata": {
    "collapsed": false,
    "pycharm": {
     "name": "#%%\n"
    }
   }
  },
  {
   "cell_type": "code",
   "execution_count": 273,
   "outputs": [
    {
     "name": "stdout",
     "output_type": "stream",
     "text": [
      "   click_id  user_id  store_id  device_label_class  platform_label_class  \\\n",
      "0    732810    28349       366                   2                     4   \n",
      "1    838715    28349       366                   2                     4   \n",
      "2   1241814    28349       366                   2                     4   \n",
      "3   1244271    28349       182                   2                     4   \n",
      "4    768524    28349       182                   2                     4   \n",
      "\n",
      "   channel_label_class  num_click_store  \n",
      "0                    2             2831  \n",
      "1                   46             2831  \n",
      "2                   46             2831  \n",
      "3                   46           259871  \n",
      "4                    2           259871  \n"
     ]
    }
   ],
   "source": [
    "# Create a new dataset for training and testing\n",
    "# features select : device, platform, channel\n",
    "# df_merge_clicks_stores_users = pd.to_datetime(df_merge_clicks_stores_users['created_at']).astype(int)/ 10**9\n",
    "dataset_features_select = df_merge_clicks_stores_users[[ \"click_id\", \"user_id\", \"store_id\", \"device_label_class\", \"platform_label_class\" , \"channel_label_class\" ,\"num_click_store\"]]\n",
    "print(dataset_features_select.head())\n",
    "#print(dataset_features_select.shape)"
   ],
   "metadata": {
    "collapsed": false,
    "pycharm": {
     "name": "#%%\n"
    }
   }
  },
  {
   "cell_type": "code",
   "execution_count": 276,
   "outputs": [
    {
     "name": "stdout",
     "output_type": "stream",
     "text": [
      "   click_id  user_id  store_id  device_label_class  platform_label_class  \\\n",
      "0    732810    28349       366                   2                     4   \n",
      "1    838715    28349       366                   2                     4   \n",
      "2   1241814    28349       366                   2                     4   \n",
      "3   1244271    28349       182                   2                     4   \n",
      "4    768524    28349       182                   2                     4   \n",
      "\n",
      "   channel_label_class  num_click_store click_label  \n",
      "0                    2             2831           0  \n",
      "1                   46             2831           0  \n",
      "2                   46             2831           0  \n",
      "3                   46           259871           1  \n",
      "4                    2           259871           1  \n"
     ]
    },
    {
     "name": "stderr",
     "output_type": "stream",
     "text": [
      "<ipython-input-276-84d4c981a3b4>:9: SettingWithCopyWarning: \n",
      "A value is trying to be set on a copy of a slice from a DataFrame.\n",
      "Try using .loc[row_indexer,col_indexer] = value instead\n",
      "\n",
      "See the caveats in the documentation: https://pandas.pydata.org/pandas-docs/stable/user_guide/indexing.html#returning-a-view-versus-a-copy\n",
      "  dataset_features_select['click_label'] = np.select(conditions, values)\n"
     ]
    }
   ],
   "source": [
    "# create a list of our conditions : labels\n",
    "conditions = [\n",
    "    (dataset_features_select['num_click_store'] <= 100000),\n",
    "    (dataset_features_select['num_click_store'] > 100000)\n",
    "    ]\n",
    "# create a list of the values we want to assign for each condition\n",
    "values = ['0', '1']\n",
    "# create a new column and use np.select to assign values to it using our lists as arguments\n",
    "dataset_features_select['click_label'] = np.select(conditions, values)\n",
    "# display updated DataFrame\n",
    "print(dataset_features_select.head(5))"
   ],
   "metadata": {
    "collapsed": false,
    "pycharm": {
     "name": "#%%\n"
    }
   }
  },
  {
   "cell_type": "code",
   "execution_count": 277,
   "outputs": [],
   "source": [
    "dataset_features_select.to_csv('././data_select_features/new_dataset_features2.csv' , index = False)"
   ],
   "metadata": {
    "collapsed": false,
    "pycharm": {
     "name": "#%%\n"
    }
   }
  },
  {
   "cell_type": "code",
   "execution_count": null,
   "outputs": [],
   "source": [],
   "metadata": {
    "collapsed": false,
    "pycharm": {
     "name": "#%%\n",
     "is_executing": true
    }
   }
  },
  {
   "cell_type": "code",
   "execution_count": 39,
   "outputs": [],
   "source": [
    "# Data Preparation\n",
    "# TODO1 Combine clicks.parquet and users.parquet table\n",
    "\n",
    "# Multi class prediction\n",
    "# TODO1 List all different merchants ID\n",
    "# TODO2 Select model input features (User ID)\n",
    "# TODO3 Build Multi class regression model\n",
    "\n",
    "\n",
    "\n"
   ],
   "metadata": {
    "collapsed": false,
    "pycharm": {
     "name": "#%%\n"
    }
   }
  }
 ],
 "metadata": {
  "kernelspec": {
   "display_name": "Python 3",
   "language": "python",
   "name": "python3"
  },
  "language_info": {
   "codemirror_mode": {
    "name": "ipython",
    "version": 2
   },
   "file_extension": ".py",
   "mimetype": "text/x-python",
   "name": "python",
   "nbconvert_exporter": "python",
   "pygments_lexer": "ipython2",
   "version": "2.7.6"
  }
 },
 "nbformat": 4,
 "nbformat_minor": 0
}