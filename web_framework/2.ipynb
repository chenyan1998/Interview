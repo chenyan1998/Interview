{
 "cells": [
  {
   "cell_type": "code",
   "execution_count": 14,
   "metadata": {
    "collapsed": true
   },
   "outputs": [],
   "source": [
    "import streamlit as st\n",
    "import pandas as pd\n",
    "import pickle\n",
    "import numpy as np\n",
    "import joblib\n"
   ]
  },
  {
   "cell_type": "code",
   "execution_count": 17,
   "outputs": [],
   "source": [
    "model = joblib.load('../train_models/GNB9.sav')\n",
    "def predict_click_store(click_id, user_id,  store_id,  device_label_class,  platform_label_class,channel_label_class ,num_click_store):\n",
    "    features_name = [[click_id ,user_id,  store_id,  device_label_class,  platform_label_class,channel_label_class,num_click_store]]\n",
    "    features_df = pd.DataFrame(features_name, columns= ['click_id', 'user_id', 'store_id' , 'device_label_class' ,'platform_label_class','channel_label_class','num_click_store'])\n",
    "    y_pred=model.predict(features_df)\n",
    "    merchant_id = store_id\n",
    "    #print(features_df)\n",
    "    return int(y_pred),merchant_id"
   ],
   "metadata": {
    "collapsed": false,
    "pycharm": {
     "name": "#%%\n"
    }
   }
  },
  {
   "cell_type": "code",
   "execution_count": 18,
   "outputs": [
    {
     "name": "stdout",
     "output_type": "stream",
     "text": [
      "predict_result :  (0, 366)\n"
     ]
    }
   ],
   "source": [
    "result = predict_click_store(732810,28349,366,3,4,2,2831)\n",
    "print(\"predict_result : \", result)"
   ],
   "metadata": {
    "collapsed": false,
    "pycharm": {
     "name": "#%%\n"
    }
   }
  },
  {
   "cell_type": "code",
   "execution_count": 9,
   "outputs": [],
   "source": [
    "def main():\n",
    "    st.sidebar.title('Shopback : Next merchant Prediction')\n",
    "    st.sidebar.markdown('Chen Yan')\n",
    "    tracks_df = pd.read_csv(\"../data_select_features/data_set_features5.csv\")\n",
    "    df_2020 = pd.read_csv(\"../data_select_features/data_set_features5.csv\")\n",
    "\n",
    "\n",
    "    if st.checkbox('Show Dataframe'):\n",
    "        tracks_df\n",
    "        df_2020\n",
    "        # st.line_chart(tracks_df)\n",
    "    #store_id,new_device,new_platform,num_click_store\n",
    "    store_id = st.text_input(\"Store_id:\")\n",
    "    new_device = st.text_input(\"New_device:\")\n",
    "    new_platform = st.text_input(\"New_platform:\")\n",
    "    num_click_store = st.text_input(\"num_click_store:\")\n",
    "\n",
    "    if st.checkbox(\"Get next prediction\"):\n",
    "        if st.button(\"Predict now\"):\n",
    "                output = predict_click_store(store_id,new_device,new_platform,num_click_store)\n",
    "                print(output)\n",
    "                if output == 1:\n",
    "                    st.markdown(\"From the **GNB** model,\\nThis store is predicted to be a ** click ** :sunglasses:\")\n",
    "                elif output == 0:\n",
    "                    st.markdown(\"From the **KNN** model,\\nThis store is predicted to be a **non-hit song**\")\n",
    "\n",
    "if __name__==\"__main__\":\n",
    "    main()"
   ],
   "metadata": {
    "collapsed": false,
    "pycharm": {
     "name": "#%%\n"
    }
   }
  },
  {
   "cell_type": "code",
   "execution_count": 9,
   "outputs": [],
   "source": [],
   "metadata": {
    "collapsed": false,
    "pycharm": {
     "name": "#%%\n"
    }
   }
  },
  {
   "cell_type": "code",
   "execution_count": null,
   "outputs": [],
   "source": [],
   "metadata": {
    "collapsed": false,
    "pycharm": {
     "name": "#%%\n"
    }
   }
  }
 ],
 "metadata": {
  "kernelspec": {
   "display_name": "Python 3",
   "language": "python",
   "name": "python3"
  },
  "language_info": {
   "codemirror_mode": {
    "name": "ipython",
    "version": 2
   },
   "file_extension": ".py",
   "mimetype": "text/x-python",
   "name": "python",
   "nbconvert_exporter": "python",
   "pygments_lexer": "ipython2",
   "version": "2.7.6"
  }
 },
 "nbformat": 4,
 "nbformat_minor": 0
}